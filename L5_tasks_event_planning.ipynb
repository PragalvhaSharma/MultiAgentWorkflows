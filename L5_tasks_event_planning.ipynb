{
 "cells": [
  {
   "cell_type": "markdown",
   "metadata": {},
   "source": [
    "# L5: Automate Event Planning\n",
    "\n",
    "In this lesson, you will learn more about Tasks."
   ]
  },
  {
   "cell_type": "markdown",
   "metadata": {},
   "source": [
    "The libraries are already installed in the classroom. If you're running this notebook on your own machine, you can install the following:\n",
    "```Python\n",
    "!pip install crewai==0.28.8 crewai_tools==0.1.6 langchain_community==0.0.29\n",
    "```"
   ]
  },
  {
   "cell_type": "code",
   "execution_count": 10,
   "metadata": {
    "height": 64
   },
   "outputs": [],
   "source": [
    "# Warning control\n",
    "import warnings\n",
    "warnings.filterwarnings('ignore')"
   ]
  },
  {
   "cell_type": "markdown",
   "metadata": {},
   "source": [
    "- Import libraries, APIs and LLM"
   ]
  },
  {
   "cell_type": "code",
   "execution_count": 11,
   "metadata": {
    "height": 30
   },
   "outputs": [],
   "source": [
    "from crewai import Agent, Crew, Task"
   ]
  },
  {
   "cell_type": "markdown",
   "metadata": {},
   "source": [
    "**Note**: \n",
    "- The video uses `gpt-4-turbo`, but due to certain constraints, and in order to offer this course for free to everyone, the code you'll run here will use `gpt-3.5-turbo`.\n",
    "- You can use `gpt-4-turbo` when you run the notebook _locally_ (using `gpt-4-turbo` will not work on the platform)\n",
    "- Thank you for your understanding!"
   ]
  },
  {
   "cell_type": "code",
   "execution_count": 12,
   "metadata": {
    "height": 130
   },
   "outputs": [],
   "source": [
    "import os\n",
    "from utils import get_openai_api_key,get_serper_api_key\n",
    "\n",
    "openai_api_key = get_openai_api_key()\n",
    "os.environ[\"OPENAI_MODEL_NAME\"] = 'gpt-3.5-turbo'\n",
    "os.environ[\"SERPER_API_KEY\"] = get_serper_api_key()"
   ]
  },
  {
   "cell_type": "markdown",
   "metadata": {},
   "source": [
    "## crewAI Tools"
   ]
  },
  {
   "cell_type": "code",
   "execution_count": 13,
   "metadata": {
    "height": 113
   },
   "outputs": [],
   "source": [
    "from crewai_tools import ScrapeWebsiteTool, SerperDevTool\n",
    "\n",
    "# Initialize the tools\n",
    "search_tool = SerperDevTool() #Search tool\n",
    "scrape_tool = ScrapeWebsiteTool() #Scraping tool"
   ]
  },
  {
   "cell_type": "markdown",
   "metadata": {},
   "source": [
    "## Creating Agents"
   ]
  },
  {
   "cell_type": "code",
   "execution_count": 15,
   "metadata": {
    "height": 283
   },
   "outputs": [],
   "source": [
    "# Agent 1: Venue Coordinator \n",
    "venue_coordinator = Agent(\n",
    "    role=\"Venue Coordinator\",\n",
    "    goal=\"Identify and book an appropriate venue \"\n",
    "    \"based on event requirements\",\n",
    "    tools=[search_tool, scrape_tool],\n",
    "    verbose=True,\n",
    "    backstory=(\n",
    "        \"With a keen sense of space and \"\n",
    "        \"understanding of event logistics, \"\n",
    "        \"you excel at finding and securing \"\n",
    "        \"the perfect venue that fits the event's theme, \"\n",
    "        \"size, and budget constraints.\"\n",
    "    )\n",
    ")"
   ]
  },
  {
   "cell_type": "code",
   "execution_count": 16,
   "metadata": {
    "height": 300
   },
   "outputs": [],
   "source": [
    " # Agent 2: Logistics Manager (after teh first agent has found the venue)\n",
    "logistics_manager = Agent(\n",
    "    role='Logistics Manager',\n",
    "    goal=(\n",
    "        \"Manage all logistics for the event \"\n",
    "        \"including catering and equipmen\"\n",
    "    ),\n",
    "    tools=[search_tool, scrape_tool],\n",
    "    verbose=True,\n",
    "    backstory=(\n",
    "        \"Organized and detail-oriented, \"\n",
    "        \"you ensure that every logistical aspect of the event \"\n",
    "        \"from catering to equipment setup \"\n",
    "        \"is flawlessly executed to create a seamless experience.\"\n",
    "    )\n",
    ")"
   ]
  },
  {
   "cell_type": "code",
   "execution_count": 19,
   "metadata": {
    "height": 266
   },
   "outputs": [],
   "source": [
    "# Agent 3: Marketing and Communications Agent\n",
    "marketing_communications_agent = Agent(\n",
    "    role=\"Marketing and Communications Agent\",\n",
    "    goal=\"Effectively market the event and \"\n",
    "         \"communicate with participants\",\n",
    "    tools=[search_tool, scrape_tool],\n",
    "    verbose=True,\n",
    "    backstory=(\n",
    "        \"Creative and communicative, \"\n",
    "        \"you craft compelling messages and \"\n",
    "        \"engage with potential attendees \"\n",
    "        \"to maximize event exposure and participation.\"\n",
    "    )\n",
    ")"
   ]
  },
  {
   "cell_type": "markdown",
   "metadata": {},
   "source": [
    "## Creating Venue Pydantic Object\n",
    "\n",
    "- Create a class `VenueDetails` using [Pydantic BaseModel](https://docs.pydantic.dev/latest/api/base_model/).\n",
    "- Agents will populate this object with information about different venues by creating different instances of it."
   ]
  },
  {
   "cell_type": "code",
   "execution_count": 20,
   "metadata": {
    "height": 232
   },
   "outputs": [],
   "source": [
    "from pydantic import BaseModel\n",
    "# Define a Pydantic model for venue details \n",
    "# (demonstrating Output as Pydantic)\n",
    "class VenueDetails(BaseModel):\n",
    "    \n",
    "    #pydantic allows us to specify data type for varibles \n",
    "    name: str\n",
    "    address: str\n",
    "    capacity: int\n",
    "    booking_status: str\n",
    "        \n",
    "    #Agents will create instances of this model/class/"
   ]
  },
  {
   "cell_type": "markdown",
   "metadata": {},
   "source": [
    "## Creating Tasks\n",
    "- By using `output_json`, you can specify the structure of the output you want.\n",
    "- By using `output_file`, you can get your output in a file.\n",
    "- By setting `human_input=True`, the task will ask for human feedback (whether you like the results or not) before finalising it."
   ]
  },
  {
   "cell_type": "code",
   "execution_count": 21,
   "metadata": {
    "height": 215
   },
   "outputs": [],
   "source": [
    "venue_task = Task(\n",
    "    description=\"Find a venue in {event_city} \"\n",
    "                \"that meets criteria for {event_topic}.\",\n",
    "    expected_output=\"All the details of a specifically chosen\"\n",
    "                    \"venue you found to accommodate the event.\",\n",
    "    human_input=True,\n",
    "    output_json=VenueDetails, #passing venue pydantic class as arguemnt to output JSON\n",
    "    output_file=\"venue_details.json\",  \n",
    "      # Outputs the venue details as a JSON file (we dont need to create our own API)\n",
    "    agent=venue_coordinator\n",
    ")"
   ]
  },
  {
   "cell_type": "markdown",
   "metadata": {},
   "source": [
    "- By setting `async_execution=True`, it means the task can run in parallel with the tasks which come after it."
   ]
  },
  {
   "cell_type": "code",
   "execution_count": 27,
   "metadata": {
    "height": 266
   },
   "outputs": [],
   "source": [
    "#Depends on the venue task but not the marketting task (we can modify async)\n",
    "logistics_task = Task(\n",
    "    description=\"Coordinate catering and \"\n",
    "                 \"equipment for an event \"\n",
    "                 \"with {expected_participants} participants \"\n",
    "                 \"on {tentative_date}.\",\n",
    "    expected_output=\"Confirmation of all logistics arrangements \"\n",
    "                    \"including catering and equipment setup.\",\n",
    "    \n",
    "    #agent will ask if we like the result before its completed\n",
    "    human_input=True,\n",
    "    async_execution=True, #Means logistic and marketting can be run in parallel independently\n",
    "    agent=logistics_manager\n",
    ")"
   ]
  },
  {
   "cell_type": "code",
   "execution_count": 28,
   "metadata": {
    "height": 198
   },
   "outputs": [],
   "source": [
    "marketing_task = Task(\n",
    "    description=\"Promote the {event_topic} \"\n",
    "                \"aiming to engage at least\"\n",
    "                \"{expected_participants} potential attendees.\",\n",
    "    expected_output=\"Report on marketing activities \"\n",
    "                    \"and attendee engagement formatted as markdown.\",\n",
    "    async_execution=True, #Means logistic and marketting can be run in parallel independently\n",
    "    output_file=\"marketing_report.md\",  # Outputs the report as a text file\n",
    "    agent=marketing_communications_agent\n",
    ")"
   ]
  },
  {
   "cell_type": "markdown",
   "metadata": {},
   "source": [
    "## Creating the Crew"
   ]
  },
  {
   "cell_type": "markdown",
   "metadata": {},
   "source": [
    "**Note**: Since you set `async_execution=True` for `logistics_task` and `marketing_task` tasks, now the order for them does not matter in the `tasks` list."
   ]
  },
  {
   "cell_type": "code",
   "execution_count": 30,
   "metadata": {
    "height": 249
   },
   "outputs": [
    {
     "name": "stderr",
     "output_type": "stream",
     "text": [
      "2024-06-18 21:36:37,813 - 140078000798592 - __init__.py-__init__:518 - WARNING: Overriding of current TracerProvider is not allowed\n"
     ]
    }
   ],
   "source": [
    "# Define the crew with agents and tasks\n",
    "event_management_crew = Crew(\n",
    "    agents=[venue_coordinator, \n",
    "            logistics_manager, \n",
    "            marketing_communications_agent],\n",
    "    \n",
    "    #Sequence matters\n",
    "    tasks=[venue_task, \n",
    "           logistics_task, \n",
    "           marketing_task],\n",
    "    \n",
    "    verbose=True\n",
    ")"
   ]
  },
  {
   "cell_type": "markdown",
   "metadata": {},
   "source": [
    "## Running the Crew\n",
    "\n",
    "- Set the inputs for the execution of the crew."
   ]
  },
  {
   "cell_type": "code",
   "execution_count": 31,
   "metadata": {
    "height": 215
   },
   "outputs": [],
   "source": [
    "event_details = {\n",
    "    'event_topic': \"Tech Innovation Conference\",\n",
    "    'event_description': \"A gathering of tech innovators \"\n",
    "                         \"and industry leaders \"\n",
    "                         \"to explore future technologies.\",\n",
    "    'event_city': \"San Francisco\",\n",
    "    'tentative_date': \"2024-09-15\",\n",
    "    'expected_participants': 500,\n",
    "    'budget': 20000,\n",
    "    'venue_type': \"Conference Hall\"\n",
    "}"
   ]
  },
  {
   "cell_type": "markdown",
   "metadata": {},
   "source": [
    "**Note 1**: LLMs can provide different outputs for they same input, so what you get might be different than what you see in the video."
   ]
  },
  {
   "cell_type": "markdown",
   "metadata": {},
   "source": [
    "**Note 2**: \n",
    "- Since you set `human_input=True` for some tasks, the execution will ask for your input before it finishes running.\n",
    "- When it asks for feedback, use your mouse pointer to first click in the text box before typing anything."
   ]
  },
  {
   "cell_type": "code",
   "execution_count": null,
   "metadata": {
    "height": 45
   },
   "outputs": [
    {
     "name": "stdout",
     "output_type": "stream",
     "text": [
      "\u001b[1m\u001b[95m [DEBUG]: == Working Agent: Venue Coordinator\u001b[00m\n",
      "\u001b[1m\u001b[95m [INFO]: == Starting Task: Find a venue in San Francisco that meets criteria for Tech Innovation Conference.\u001b[00m\n",
      "\n",
      "\n",
      "\u001b[1m> Entering new CrewAgentExecutor chain...\u001b[0m\n",
      "\u001b[32;1m\u001b[1;3mI need to find a venue in San Francisco that meets the criteria for the Tech Innovation Conference.\n",
      "\n",
      "Action: Search the internet\n",
      "Action Input: {\"search_query\": \"conference venues in San Francisco for tech events\"}\u001b[0m\u001b[95m \n",
      "\n",
      "\n",
      "Search results: Title: Top 12 tech conferences in San Francisco for 2024 - TravelPerk\n",
      "Link: https://www.travelperk.com/blog/top-tech-conferences-in-san-francisco/\n",
      "Snippet: Top 12 tech conferences in San Francisco for 2024 · Developer Week · Women Impact Tech · SaaS Connect · Cybersecurity and Cloud Congress · Startup ...\n",
      "---\n",
      "Title: The 16 Best Conference Venues for Rent in San Francisco, CA\n",
      "Link: https://www.tagvenue.com/us/hire/conference-venues/san-francisco\n",
      "Snippet: Tagvenue offers an extensive range of conference venues in San Francisco, making it easy for you to find the perfect one. Select and book your venue today!\n",
      "---\n",
      "Title: The 25 Best Event Venues in San Francisco - Bizzabo\n",
      "Link: https://www.bizzabo.com/blog/san-francisco-event-venues\n",
      "Snippet: 10. The Westin St. Francis ... The Westin St. Francis San Francisco on Union Square is an iconic and luxurious venue in the heart of San Francisco ...\n",
      "---\n",
      "Title: San Francisco Tech Conferences - TECHSPO Silicon Valley\n",
      "Link: https://techsposv.com/san-francisco-tech-conferences/\n",
      "Snippet: Welcome to the San Francisco Tech Conferences Guide: Your number one resource to find the best, top voted, must-attend San Francisco tech conferences ...\n",
      "---\n",
      "Title: Best Science & Tech Conference in San Francisco, CA - Eventbrite\n",
      "Link: https://www.eventbrite.com/d/ca--san-francisco/science-and-tech--conferences/\n",
      "Snippet: Science & Tech Conference Events. Science & tech events in San Francisco, CA ... Broadway Studios Venue, Broadway, San Francisco, CA, USA. From $50.00. Jyex. 91 ...\n",
      "---\n",
      "Title: The Ultimate Calendar of 50 Best Tech Conferences in San Francisco\n",
      "Link: https://www.tryreason.com/blog/the-ultimate-calendar-of-35-best-tech-conferences-in-san-francisco/\n",
      "Snippet: San Francisco is known as a hub for technology and innovation, and as such, it is home to some of the best tech conferences in the world.\n",
      "---\n",
      "Title: Top 16 Must-Visit San Francisco Tech Events in 2024\n",
      "Link: https://startupvoyager.com/tech-events-san-francisco/\n",
      "Snippet: 1. Tech Summit Silicon Valley · When: 19th to 20th June 2024 · Where: Santa Clara Convention Center, 5001 Great America Pkwy, Santa Clara, ...\n",
      "---\n",
      "Title: Event Details San Francisco - Tech Summit\n",
      "Link: https://techsummit.tech/san-francisco-tech-conference/\n",
      "Snippet: Silicon Valley as the bustling epicentre of Tech and our iconic venue. 11. A one-of-a-kind networking experience. 12. Q&As and experiences – interact with ...\n",
      "---\n",
      "Title: 10 Best Networking & Job Fair Venues For Rent in San Francisco, CA\n",
      "Link: https://www.peerspace.com/venues/san-francisco--ca/networking-venue\n",
      "Snippet: Popular networking event venues · Showplace Square, San Francisco, CA · SoMa, San Francisco, CA · SoMa, San Francisco, CA · Tenderloin, San Francisco, CA · Lower Nob ...\n",
      "---\n",
      "Title: San Francisco Tech Events - TECHSPO Silicon Valley\n",
      "Link: https://techsposv.com/san-francisco-tech-events/\n",
      "Snippet: The big list of technology events in Silicon Valley, including; conferences, seminars, workshops, meetings, summits, festivals, expos, trade shows and much more ...\n",
      "---\n",
      "\n",
      "\u001b[00m\n",
      "\u001b[32;1m\u001b[1;3mThought: \n",
      "I need to find a venue in San Francisco that meets the criteria for the Tech Innovation Conference.\n",
      "\n",
      "Action: Search the internet\n",
      "Action Input: {\"search_query\": \"conference venues in San Francisco for tech events\"}\u001b[0m\u001b[95m \n",
      "\n",
      "I tried reusing the same input, I must stop using this action input. I'll try something else instead.\n",
      "\n",
      "\n",
      "\u001b[00m\n",
      "\u001b[32;1m\u001b[1;3mAction: Search the internet\n",
      "Action Input: {\"search_query\": \"best conference venues in San Francisco for tech innovation conference\"}\u001b[0m\u001b[95m \n",
      "\n",
      "\n",
      "Search results: Title: Top 12 tech conferences in San Francisco for 2024 - TravelPerk\n",
      "Link: https://www.travelperk.com/blog/top-tech-conferences-in-san-francisco/\n",
      "Snippet: With over 200 speakers, the San Francisco Tech Summit offers an action-packed agenda for inspiration, insights, innovation, and connections.\n",
      "---\n",
      "Title: Top 16 Must-Visit San Francisco Tech Events in 2024\n",
      "Link: https://startupvoyager.com/tech-events-san-francisco/\n",
      "Snippet: 1. Tech Summit Silicon Valley · When: 19th to 20th June 2024 · Where: Santa Clara Convention Center, 5001 Great America Pkwy, Santa Clara, ...\n",
      "---\n",
      "Title: The 25 Best Event Venues in San Francisco - Bizzabo\n",
      "Link: https://www.bizzabo.com/blog/san-francisco-event-venues\n",
      "Snippet: 10. The Westin St. Francis ... The Westin St. Francis San Francisco on Union Square is an iconic and luxurious venue in the heart of San Francisco ...\n",
      "---\n",
      "Title: Tech Summit Silicon Valley\n",
      "Link: https://techsummit.tech/san-francisco/\n",
      "Snippet: Embark on a journey toward a future where technology inspires hope. Experience the best of both worlds — the professional insights of a conference infused ...\n",
      "---\n",
      "Title: San Francisco Tech Conferences - TECHSPO Silicon Valley\n",
      "Link: https://techsposv.com/san-francisco-tech-conferences/\n",
      "Snippet: Welcome to the San Francisco Tech Conferences Guide: Your number one resource to find the best, top voted, must-attend San Francisco tech conferences ...\n",
      "---\n",
      "Title: The Ultimate Calendar of 50 Best Tech Conferences in San Francisco\n",
      "Link: https://www.tryreason.com/blog/the-ultimate-calendar-of-35-best-tech-conferences-in-san-francisco/\n",
      "Snippet: San Francisco is known as a hub for technology and innovation, and as such, it is home to some of the best tech conferences in the world.\n",
      "---\n",
      "Title: The 16 Best Conference Venues for Rent in San Francisco, CA\n",
      "Link: https://www.tagvenue.com/us/hire/conference-venues/san-francisco\n",
      "Snippet: Top Conference Venues in San Francisco, CA ; Turn-keyStudio & MeetingSpace. 70. 100 ; The Whole Venue. 110. 110 ; Event Area. 50. 50 ; Main Hall. 150. 200.\n",
      "---\n",
      "Title: World Agri-Tech Innovation Summit, March 11-12, 2025\n",
      "Link: https://worldagritechusa.com/\n",
      "Snippet: The annual meeting place for the global agtech ecosystem to exchange insights, be inspired, and identify future partners.\n",
      "---\n",
      "Title: Best Science & Tech Conference in San Francisco, CA - Eventbrite\n",
      "Link: https://www.eventbrite.com/d/ca--san-francisco/science-and-tech--conferences/\n",
      "Snippet: Broadway Studios Venue, Broadway, San Francisco, CA, USA. From $50.00. Jyex. 91 ... Save this event: Adam's amazing innovation event. Share this event: Adam's ...\n",
      "---\n",
      "Title: Tech Summit | The Home of Technology\n",
      "Link: https://techsummit.tech/\n",
      "Snippet: Tech Summit - Igniting Innovation, Empowering Tomorrow. ... Professional Development. View All. \" Top Tech Conference in San Francisco \".\n",
      "---\n",
      "\n",
      "\u001b[00m\n",
      "\u001b[32;1m\u001b[1;3mThought: \n",
      "I need to find a venue in San Francisco that meets the criteria for the Tech Innovation Conference.\n",
      "\n",
      "Action: Read website content\n",
      "Action Input: {\"website_url\": \"https://www.tagvenue.com/us/hire/conference-venues/san-francisco\"}\u001b[0m\u001b[95m \n",
      "\n",
      "The 16 Best Conference Venues for Rent in San Francisco, CA\n",
      " Conference Venues for Rent in San Francisco, CA\n",
      " Book one of our meeting spaces for your next event\n",
      "Date\n",
      "Guests\n",
      "Search\n",
      " Trusted by over 500k customers\n",
      " United States\n",
      " >\n",
      " San Francisco\n",
      " >\n",
      " Corporate Event Venues\n",
      " >\n",
      " Conference Venues\n",
      " Top Conference Venues in San Francisco, CA\n",
      "The Bay Area is known for its high-tech companies, but it's also home to some of the most unique conference venues in the world. Whether you're looking for a venue with a view or one that can fit all of your employees, there are plenty of options available. With so many choices, it can be difficult to know where to begin. That's why we have done the dirty work for you. So sit back and enjoy going through the listings of the best conference venues in San Francisco on Tagvenue!\n",
      " See all venues (99)\n",
      " 99\n",
      " Conference Venues in San Francisco, CA\n",
      " Show map\n",
      " See all venues (99)\n",
      " from $1500\n",
      " minimum spend / per session \n",
      "Main Hall\n",
      " 150\n",
      " 200\n",
      " Trellis\n",
      " (2)\n",
      " South Beach, San Francisco, CA\n",
      " from $375\n",
      " hire fee / per hour \n",
      "The Whole Venue\n",
      " 110\n",
      " 110\n",
      " The American Bookbinders Museum\n",
      " (3)\n",
      " South Beach, San Francisco, CA\n",
      " from $250\n",
      " hire fee / per hour \n",
      "Turn-keyStudio & MeetingSpace\n",
      " 70\n",
      " 100\n",
      " The Producer's Loft Studio\n",
      " Mission District, San Francisco, CA\n",
      " from $250\n",
      " hire fee / per hour \n",
      "Event Area\n",
      " 50\n",
      " 50\n",
      " Dynamico Space\n",
      " (4)\n",
      " Downtown San Francisco-Union Square, CA\n",
      " from $3000\n",
      " hire fee / per session \n",
      "2nd Floor\n",
      " 110\n",
      " 140\n",
      " Dogpatch Studios\n",
      " (1)\n",
      " Dogpatch, San Francisco, CA\n",
      " from $150\n",
      " hire fee / per hour \n",
      "Renovated Warehouse\n",
      " 16\n",
      " 16\n",
      " Sintak Studio\n",
      " Mission District, San Francisco, CA\n",
      " from $470\n",
      " hire fee / per hour \n",
      "Stunning & Sunlit Event Venue\n",
      " 45\n",
      " 45\n",
      " The Farm SF\n",
      " Downtown San Francisco-Union Square, CA\n",
      " from $50\n",
      " hire fee / per hour \n",
      "Meeting Room\n",
      " 5\n",
      " Intelligent Office Financial District\n",
      " Financial District, San Francisco, CA\n",
      " from $70\n",
      " hire fee / per hour \n",
      "Conference Room\n",
      " 12\n",
      " Intelligent Office Financial District\n",
      " Financial District, San Francisco, CA\n",
      " from $45\n",
      " hire fee / per hour \n",
      "Meeting Room\n",
      " 8\n",
      " 8\n",
      " Dynamico Space\n",
      " (4)\n",
      " Downtown San Francisco-Union Square, CA\n",
      " from $575\n",
      " hire fee / per hour \n",
      "The Alternative (Second Floor)\n",
      " 75\n",
      " 100\n",
      " Alloy Collective\n",
      " (1)\n",
      " South Beach, San Francisco, CA\n",
      " from $349\n",
      " hire fee / per hour \n",
      "Collaboration Hub\n",
      " 50\n",
      " 55\n",
      " Mind the Bridge Innovation Center\n",
      " Western South of Market, San Francisco, CA\n",
      "1\n",
      "2\n",
      "3\n",
      "4\n",
      " Conference Venues Rental Guide \n",
      "The San Francisco Bay Area is the perfect place to hold your next conference. The area boasts a diverse range of conference venues for rent, from historic buildings to modern high-rise towers. Whether you're looking for a venue that offers a unique experience for your guests or space to accommodate large groups, here are some of the tips you may find useful when renting a conference venue:\n",
      "Make sure the venue is easy to find and get to. Check whether it has adequate parking space or is situated close to major hotels, airports, or other important locations. The venue should also have decent access to a good network of transportation links. \n",
      "Find a venue that fits your guests like a glove. The capacity of the venue should be able to accommodate your expected number of attendees and provide the necessary furniture and equipment for your event.\n",
      "Check if the venue can cater to your needs. If the venue doesn't have in-house catering, it might permit outside services. In some cases, they may offer you a list of recommended vendors who can assist you with your catering needs.\n",
      "Find a venue with the proper infrastructure. Make sure that there are enough restrooms, cloakrooms, etc., for your guests. If you’re planning an event with multiple breakout sessions or workshops, make sure the venue has enough breakout rooms. If you're planning a large event, you may be able to rent out an entire floor in a building or have the venue at your disposal for the entire day.\n",
      "Make sure the venue has the necessary equipment. Some venues have their own equipment that can be used for your conference, but others may require you to bring your own. This might include PA systems, microphones, projectors, and screens. If you want to use any special equipment during your event, check if the venue has them available.\n",
      "Check if the venue has a built-in sound system. You need to make sure that your guests can hear the speakers clearly when they attend your conference. You may want to rent wireless microphones to avoid the hassle of dealing with tangled wires.\n",
      "Make sure the venue has adequate lighting. The venue should be able to accommodate your choice of natural or artificial lighting, depending on the ambience that matches your preference. Natural lighting is better for creating a warm, welcoming atmosphere while artificial lighting is more suitable for creating a professional ambience.\n",
      "Ensure that the venue has air conditioning. You need to make sure that your guests are comfortable throughout the event and can enjoy themselves without being distracted by heat or humidity. You can also opt for a venue with a cooling system instead. \n",
      "Check if you can customize the space to your needs. You should have control over the layout of the venue's space to create the best possible environment for your conference. Special seating arrangements may be necessary if you are giving a speech and need to address the audience from the stage.\n",
      "Conferences and meetings are a great way to get together with your team, clients, or other people in your industry. They can be used to promote products and services or create stronger relationships with your network. People often rent conference venues for a variety of reasons, including the following:\n",
      "Business Meetings. If you need to host a business meeting, then renting a conference venue is probably the best way to go about it. Many businesses have regular meetings with clients and suppliers, and these events can be held at a rented conference venue instead of a cramped meeting room.\n",
      "Conferences. If you have a large group of people who need to attend a conference, then you need a suitable venue for such events. Most of these venues have the facilities needed to run a successful conference, including catering services, audio-visual equipment, and a stage for speakers and presentations.\n",
      "Networking Events. If you're in the business of connecting people, then a conference venue can be an important part of your strategy. Choosing the right venue can increase the sense of prestige or success surrounding your event. It's also great for building your brand and displaying your talents as a speaker or host. \n",
      "Exhibitions. Renting a conference venue is a great way to showcase your products and services to potential customers or clients in an attractive and professional setting. You can take advantage of the opportunity to impress your guests and make connections with potential partners.\n",
      "Conventions. If you want to get your colleagues together for an annual event to learn about the latest trends in their field and network with others in their industry, renting a conference venue might be just what you need! You may also want to rent a conference venue if you have an important announcement to make or want to hold a special celebration.\n",
      "Training Sessions. Training sessions are a great way for your company to stay on top of the latest trends in your industry. If your company is looking to train its employees, why not rent a conference venue and bring everyone together? This gives you the opportunity to hire a professional trainer and host a seminar that is relevant to your business in a professional setting. \n",
      "Expos. These events are intended to show off your product and generate some buzz around it. They're also a great way to get exposure, which can be difficult if you're hosting your event in a cramped space. Consider renting a conference venue instead to make the most of your time and money.\n",
      "FAQs about Conference Venues in San Francisco, CA\n",
      "How much does it cost to rent a conference venue in San Francisco?\n",
      "The average price for renting a conference venue is about $1,500-$2,000 per session. This price is based on the location and number of guests attending the event. If you have more than 300 people coming to your conference, you should expect to pay at least $2,500+ per session. The price of your conference will also increase depending on how many days it lasts and whether or not you need catering.\n",
      "Which areas of San Francisco are best for renting a conference venue?\n",
      "The Financial District. This area is perfect for conferences of any size and price range, with spaces that range from intimate to expansive. It's also got plenty of hotels nearby if you need accommodation.\n",
      "Downtown. This district has a lot of great options for conference venues, from historic buildings to modern spaces designed with your needs in mind. It's also close to the Financial District, so it won't take you long to get there!\n",
      "Russian Hill. If you're looking for something more historic or old-fashioned than what the Financial District has to offer, check out Russian Hill! The neighborhood is known for its Victorian houses, which make it a great place for conference venues that have a unique flair.\n",
      "Union Square. This area has some great options too! It's a very modern area with lots of restaurants and hotels, which makes it a great choice if you're planning on having some events during the conference. \n",
      "What are some of the best conference venues in San Francisco?\n",
      "Main Hall at Trellis. This versatile space can accommodate everything from daytime conferences under the sun to evening panel discussions. With its brick walls and redwood rafters, it got the rustic charm of an old-school barn—except it's got Edison bulbs instead of hay bales. It was designed to be a comfortable, inviting space with satin curtains and a curated collection of art and furniture. It's the perfect place to hold a special event that is going to delight your guests.\n",
      "California Ballroom at Oakstop Franklin. This is a quintessential venue for your next conference. Its beautiful art deco architecture is going to leave your guests in awe, and the adjoining meeting lounge offers more options for groups that require a VIP area, a breakout space, etc. Don’t let the name fool you, as this is not just a ballroom, but rather a multi-purpose venue that can be configured to accommodate different types of events, including large conferences and corporate meetings.\n",
      "Meeting Room at Homewood Suites. The venue is conveniently located in downtown Brisbane, just a few miles away from the airport. It's a bright, warm room that is ideal for ensuring that your attendees can concentrate on the topic at hand. The room can be set up with a whiteboard, or you can use the projector to display presentations. The venue also provides in-house catering and complimentary water. It's perfect for conferences and takes advantage of the narrow focus that serves a small group of attendees.\n",
      "What should I consider when choosing a conference venue in San Francisco?\n",
      "The most important thing to consider when planning an event is how your guests will interact with each other—and what amenities you can offer them to make their experience relaxing and productive. When you're searching for venues, look for places that offer Wi-Fi, projectors and screens, comfortable seating options, and a PA system or music speakers. You may also want to include amenities like food options (if you're holding an event that lasts more than a few hours) and on-site parking in your search. It's also important to consider if the venue has breakout rooms or dedicated spaces for attendees to hold private discussions. If you're planning a seminar or training event that takes place over the course of a few days, find a venue with lodging accommodations, like hotels with conference rooms.\n",
      " Used by over\n",
      "500,000\n",
      " really smart customers\n",
      "Found an amazing venue within 10 minutes of looking! Really happy :)\n",
      "Charlotte Greaves - Baby Shower\n",
      " I came across Tagvenue completely by accident and Sarah was unbelievably helpful in saving me valuable time and conducting the search on my behalf. I would not hesitate to use Tagvenue again.\n",
      "Natalie Moores - Corporate Event\n",
      " It was really easy to find a wide range of potential locations, and I could contact many different venues with ease. Tagvenue allowed me to be very dynamic when organising my event. Would definitely use again!\n",
      " Sophie Ward - Birthday Party\n",
      "People also search for\n",
      " Press Conference Venues in San Francisco, CA\n",
      " Unique Conference Venues in San Francisco, CA\n",
      "Conference Venues in other cities\n",
      " New York City, NY\n",
      " Washington, DC\n",
      " Chicago, IL\n",
      " Los Angeles, CA\n",
      " San Diego, CA\n",
      " Philadelphia, PA\n",
      " Atlanta, GA\n",
      " Houston, TX\n",
      " Seattle, WA\n",
      " Boston, MA\n",
      " Tagvenue Australia\n",
      " Tagvenue Canada\n",
      " Tagvenue Ireland\n",
      " Tagvenue Singapore\n",
      " Tagvenue UK\n",
      " Tagvenue USA\n",
      "Users\n",
      "Why Tagvenue\n",
      "User login\n",
      "Venues\n",
      "Why list with us\n",
      "List your venue\n",
      "Venue login\n",
      "Tagvenue\n",
      "About us\n",
      "Help Centre\n",
      "Contact us\n",
      "Careers\n",
      "Terms & Privacy\n",
      "Press\n",
      "Blog\n",
      " © 2024 Tagvenue.\n",
      " All rights reserved.\n",
      "\u001b[00m\n"
     ]
    }
   ],
   "source": [
    "result = event_management_crew.kickoff(inputs=event_details)"
   ]
  },
  {
   "cell_type": "markdown",
   "metadata": {},
   "source": [
    "- Display the generated `venue_details.json` file."
   ]
  },
  {
   "cell_type": "code",
   "execution_count": null,
   "metadata": {
    "height": 132
   },
   "outputs": [],
   "source": [
    "import json\n",
    "from pprint import pprint\n",
    "\n",
    "with open('venue_details.json') as f:\n",
    "   data = json.load(f)\n",
    "\n",
    "print(data)"
   ]
  },
  {
   "cell_type": "markdown",
   "metadata": {},
   "source": [
    "- Display the generated `marketing_report.md` file.\n",
    "\n",
    "**Note**: After `kickoff` execution has successfully ran, wait an extra 45 seconds for the `marketing_report.md` file to be generated. If you try to run the code below before the file has been generated, your output would look like:\n",
    "\n",
    "```\n",
    "marketing_report.md\n",
    "```\n",
    "\n",
    "If you see this output, wait some more and than try again."
   ]
  },
  {
   "cell_type": "code",
   "execution_count": null,
   "metadata": {
    "height": 47
   },
   "outputs": [],
   "source": [
    "from IPython.display import Markdown\n",
    "Markdown(\"marketing_report.md\")"
   ]
  },
  {
   "cell_type": "code",
   "execution_count": null,
   "metadata": {
    "height": 30
   },
   "outputs": [],
   "source": []
  },
  {
   "cell_type": "code",
   "execution_count": null,
   "metadata": {
    "height": 30
   },
   "outputs": [],
   "source": []
  }
 ],
 "metadata": {
  "kernelspec": {
   "display_name": "Python 3 (ipykernel)",
   "language": "python",
   "name": "python3"
  },
  "language_info": {
   "codemirror_mode": {
    "name": "ipython",
    "version": 3
   },
   "file_extension": ".py",
   "mimetype": "text/x-python",
   "name": "python",
   "nbconvert_exporter": "python",
   "pygments_lexer": "ipython3",
   "version": "3.11.9"
  }
 },
 "nbformat": 4,
 "nbformat_minor": 4
}
